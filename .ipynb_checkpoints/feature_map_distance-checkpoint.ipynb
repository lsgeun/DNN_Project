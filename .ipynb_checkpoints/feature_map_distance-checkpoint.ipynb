{
 "cells": [
  {
   "cell_type": "markdown",
   "metadata": {
    "id": "HxBleLvtHZwK"
   },
   "source": [
    "# 1. n*m 크기의 임의의 오분류 테스트 데이터의 피처 맵 K개 생성\n",
    "* random.seed(42)로 랜덤하게 나오는 것을 일정하게 만들어준다\n",
    "* 피처 맵 계산 연습을 위한 K개의 n*m 사이즈의 테스트 데이터셋 생성"
   ]
  },
  {
   "cell_type": "code",
   "execution_count": null,
   "metadata": {
    "id": "53xqEUl-E4DS"
   },
   "outputs": [],
   "source": [
    "import numpy as np\n",
    "import random\n",
    "\n",
    "random.seed(42)\n",
    "random_start = 1; random_end = 10000\n",
    "\n",
    "K = 1000\n",
    "n = 5; m = 6\n",
    "\n",
    "# shape이 (1, n, m)인 빈 np.array를 만듦\n",
    "wrong_test_data_sets = np.empty((1, n, m), dtype=\"int32\")\n",
    "\n",
    "for i in range(K):\n",
    "    wrong_test_data = np.array([[random.randint(random_start, random_end) for i in range(m)] for j in range(n)], dtype=\"int32\")\n",
    "    # np.append는 내장 append 함수와 다르게 차원이 같아야 append됨\n",
    "    wrong_test_data_sets = np.append(wrong_test_data_sets, wrong_test_data.reshape(1, n, m), axis = 0)\n",
    "\n",
    "# print(wrong_test_data_sets)\n",
    "\n",
    "# 바로 아래의 코드 블록은 이 코드를 만들기 전에 시도했던 코드 블록이다."
   ]
  },
  {
   "cell_type": "markdown",
   "metadata": {
    "id": "nkjj_mlTgiIK"
   },
   "source": [
    "# 2. 베이스 피처맵 임의로 할당"
   ]
  },
  {
   "cell_type": "markdown",
   "metadata": {
    "id": "N7H3Jre4kixb"
   },
   "source": [
    "실제로는 학습 데이터의 피처 맵의 평균인 베이스 피처 맵을 입력으로 받아야 함."
   ]
  },
  {
   "cell_type": "code",
   "execution_count": null,
   "metadata": {
    "id": "JePT1TEygcil"
   },
   "outputs": [],
   "source": [
    "# 랜덤하게 나오는 값 고정\n",
    "random.seed(42)\n",
    "\n",
    "base_feature_map = np.array([[random.randint(random_start, random_end) for i in range(m)] for j in range(n)], dtype=\"int32\")\n",
    "\n",
    "# print(base_feature_map)"
   ]
  },
  {
   "cell_type": "markdown",
   "metadata": {
    "id": "CmzbQbCfKTxk"
   },
   "source": [
    "# 3. 각 인덱스 (i,j)에서 오분류 테스트 데이터의 피처 맵과 베이스 피처 맵의 거리를 K개 나열할 때 이에 대한 중간값을 저장하는 행렬 middle 생성"
   ]
  },
  {
   "cell_type": "code",
   "execution_count": null,
   "metadata": {
    "colab": {
     "base_uri": "https://localhost:8080/"
    },
    "executionInfo": {
     "elapsed": 358,
     "status": "ok",
     "timestamp": 1656584360750,
     "user": {
      "displayName": "이상근",
      "userId": "17440146506300813269"
     },
     "user_tz": -540
    },
    "id": "8zjxepYnG5A5",
    "outputId": "0ca19a55-a26f-478b-f0fd-f42df8e2791e"
   },
   "outputs": [
    {
     "name": "stdout",
     "output_type": "stream",
     "text": [
      "middle\n",
      "[[3266 4710 2603 2556 2450 3072]\n",
      " [3493 4141 3631 4763 2560 4554]\n",
      " [4491 3532 2540 2618 3043 4772]\n",
      " [4355 4142 2318 4071 2754 2509]\n",
      " [2585 4604 2403 4847 2547 2459]]\n",
      "average\n",
      "[[3527 4671 2558 2620 2687 3424]\n",
      " [3631 4215 3871 4736 2966 4461]\n",
      " [4455 3768 2738 2725 3497 4793]\n",
      " [4513 4228 2705 4065 3068 2679]\n",
      " [3170 4622 2492 4959 3063 2930]]\n",
      "middle > average\n",
      "[[False  True  True False False False]\n",
      " [False False False  True False  True]\n",
      " [ True False False False False False]\n",
      " [False False False  True False False]\n",
      " [False False False False False False]]\n",
      "standard_deviation\n",
      "[[2469 2863 1458 1560 1737 2328]\n",
      " [2476 2747 2606 2855 1946 2868]\n",
      " [2808 2661 1739 1683 2486 2854]\n",
      " [2799 2778 1862 2720 1942 1793]\n",
      " [2135 2889 1479 2941 2141 1980]]\n"
     ]
    }
   ],
   "source": [
    "# 각 인덱스 (i,j)에서 middle의 원소들은 그 인덱스 (i,j)에서 베이스 피처 맵와 오분류 테스트 데이터의 피처 맵의 거리를 K개 나열할 때\n",
    "# 이 값들에 대한 중간값이어야 한다.\n",
    "middle = np.empty((n,m), dtype=\"int32\")\n",
    "average = np.empty((n,m), dtype=\"int32\")\n",
    "standard_deviation = np.empty((n,m), dtype=\"int32\")\n",
    "\n",
    "for i in range(n):\n",
    "    for j in range(m):\n",
    "        array_i_j = np.empty((1), dtype=\"int32\")\n",
    "        for k in range(K):\n",
    "            # 거리를 구해야 하므로 내장함수 abs를 씀\n",
    "            # TODO 표준화 해야함.\n",
    "            array_i_j = np.append(array_i_j, abs(base_feature_map[i][j] - wrong_test_data_sets[k][i][j]))\n",
    "\n",
    "        middle[i][j] = sorted(array_i_j)[K // 2]\n",
    "        average[i][j] = array_i_j.mean()\n",
    "        standard_deviation[i][j] = array_i_j.std()\n",
    "\n",
    "print(\"middle\")\n",
    "print(middle)\n",
    "print(\"average\")\n",
    "print(average)\n",
    "print(\"middle > average\")\n",
    "print(middle > average)\n",
    "print(\"standard_deviation\")\n",
    "print(standard_deviation)"
   ]
  },
  {
   "cell_type": "code",
   "execution_count": null,
   "metadata": {
    "id": "IgLfwWWfhLlS"
   },
   "outputs": [],
   "source": [
    "test_feature_map_distance = np.empty((1), dtype=\"int32\")\n",
    "for k in range(K):\n",
    "    test_k_feature_map_distance = 0\n",
    "    for i in range(n):\n",
    "        for j in range(m):\n",
    "            test_k_feature_map_distance += ((base_feature_map[i][j] - wrong_test_data_sets[k][i][j]) / middle[i][j])**2"
   ]
  },
  {
   "cell_type": "code",
   "execution_count": null,
   "metadata": {
    "colab": {
     "base_uri": "https://localhost:8080/"
    },
    "executionInfo": {
     "elapsed": 6,
     "status": "ok",
     "timestamp": 1656583729752,
     "user": {
      "displayName": "이상근",
      "userId": "17440146506300813269"
     },
     "user_tz": -540
    },
    "id": "YnBTNH2MhZBM",
    "outputId": "750511a4-da89-43e3-be84-6e9e97318ead"
   },
   "outputs": [
    {
     "data": {
      "text/plain": [
       "array([[1822.61240073,  409.0089172 , 4503.3388398 , 4010.1228482 ,\n",
       "        3653.98571429, 2286.69661458],\n",
       "       [1678.52073206, 8935.36459836, 1424.39162765, 9674.63516621,\n",
       "        6909.86171875,  520.55419312],\n",
       "       [ 488.59986729, 1534.7115493 , 3579.47598425, 3809.43888464,\n",
       "        8278.21396104, 9862.56762982],\n",
       "       [ 433.66391753, 9193.95581845, 3257.33075269, 8926.77693252,\n",
       "        6870.81989833, 3611.33386454],\n",
       "       [7359.94010819, 9653.46025195, 4557.47482314,  105.33573933,\n",
       "        2614.64075383, 6922.91429732]])"
      ]
     },
     "execution_count": 151,
     "metadata": {},
     "output_type": "execute_result"
    }
   ],
   "source": [
    "base_feature_map - wrong_test_data_sets[0] / middle"
   ]
  },
  {
   "cell_type": "code",
   "execution_count": 164,
   "metadata": {
    "colab": {
     "base_uri": "https://localhost:8080/"
    },
    "executionInfo": {
     "elapsed": 410,
     "status": "ok",
     "timestamp": 1656587860628,
     "user": {
      "displayName": "이상근",
      "userId": "17440146506300813269"
     },
     "user_tz": -540
    },
    "id": "_PruCqafiJGb",
    "outputId": "d33e7e29-8d05-456b-811d-0c98e9b358d4"
   },
   "outputs": [
    {
     "name": "stdout",
     "output_type": "stream",
     "text": [
      "1\n",
      "2\n",
      "3\n",
      "4\n"
     ]
    }
   ],
   "source": [
    "print(1)\n",
    "print(2)\n",
    "print(3)\n",
    "print(4)\n",
    "print(5)\n",
    "print(6)"
   ]
  }
 ],
 "metadata": {
  "colab": {
   "authorship_tag": "ABX9TyNcvLiTFYZRMMrctTHM2+E9",
   "collapsed_sections": [],
   "name": "feature_map_distance.ipynb",
   "provenance": []
  },
  "gist": {
   "data": {
    "description": "feature_map_distance.ipynb",
    "public": false
   },
   "id": ""
  },
  "hide_input": false,
  "kernelspec": {
   "display_name": "Python 3 (ipykernel)",
   "language": "python",
   "name": "python3"
  },
  "language_info": {
   "codemirror_mode": {
    "name": "ipython",
    "version": 3
   },
   "file_extension": ".py",
   "mimetype": "text/x-python",
   "name": "python",
   "nbconvert_exporter": "python",
   "pygments_lexer": "ipython3",
   "version": "3.8.13"
  },
  "nbTranslate": {
   "displayLangs": [
    "*"
   ],
   "hotkey": "alt-t",
   "langInMainMenu": true,
   "sourceLang": "en",
   "targetLang": "fr",
   "useGoogleTranslate": true
  },
  "toc": {
   "base_numbering": 1,
   "nav_menu": {},
   "number_sections": true,
   "sideBar": true,
   "skip_h1_title": false,
   "title_cell": "Table of Contents",
   "title_sidebar": "Contents",
   "toc_cell": false,
   "toc_position": {},
   "toc_section_display": true,
   "toc_window_display": false
  },
  "varInspector": {
   "cols": {
    "lenName": 16,
    "lenType": 16,
    "lenVar": 40
   },
   "kernels_config": {
    "python": {
     "delete_cmd_postfix": "",
     "delete_cmd_prefix": "del ",
     "library": "var_list.py",
     "varRefreshCmd": "print(var_dic_list())"
    },
    "r": {
     "delete_cmd_postfix": ") ",
     "delete_cmd_prefix": "rm(",
     "library": "var_list.r",
     "varRefreshCmd": "cat(var_dic_list()) "
    }
   },
   "types_to_exclude": [
    "module",
    "function",
    "builtin_function_or_method",
    "instance",
    "_Feature"
   ],
   "window_display": false
  }
 },
 "nbformat": 4,
 "nbformat_minor": 1
}
