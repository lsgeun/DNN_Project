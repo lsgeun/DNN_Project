{
 "cells": [
  {
   "cell_type": "code",
   "execution_count": 1,
   "metadata": {},
   "outputs": [
    {
     "data": {
      "image/png": "[encoded data removed]",
      "text/plain": [
       "<Figure size 432x288 with 1 Axes>"
      ]
     },
     "metadata": {
      "needs_background": "light"
     },
     "output_type": "display_data"
    }
   ],
   "source": [
    "from FMD import FMD\n",
    "\n",
    "cifar10_dir = \"/Users/macbookair_sg/Library/Mobile Documents/com~apple~CloudDocs/대학/졸업/졸업 과제/data_sets/cifar/cifar10_2\"\n",
    "cifar10_classes = ['airplane', 'automobile', 'bird', 'cat', 'deer', 'dog', 'frog', 'horse', 'ship', 'truck']\n",
    "cifar10_class_dirs = [f'{cifar10_dir}/{cifar10_class}'for cifar10_class in cifar10_classes]\n",
    "fmd = FMD()\n",
    "\n",
    "# fmd.fit_eval_all(cifar10_class_dirs)\n",
    "# for cifar10_class_dir in cifar10_class_dirs:\n",
    "#     fmd.fit(f\"{cifar10_class_dir}\")\n",
    "#     fmd.eval()\n",
    "    \n",
    "# fmd.show_all_eval_venn_diagram(cifar10_class_dirs)\n",
    "# fmd.show_all_eval_U(cifar10_class_dirs)\n",
    "# fmd.show_all_eval_U_predicted(cifar10_class_dirs)\n",
    "# fmd.show_all_eval_U_matched(cifar10_class_dirs)\n",
    "# # fmd.show_all_eval_U_predicted_matched(cifar10_class_dirs)\n",
    "# fmd.show_all_eval_fmd_right_ratio(cifar10_class_dirs)\n",
    "# fmd.show_all_fmds(cifar10_class_dirs)\n",
    "# fmd.show_all_efficiency(cifar10_class_dirs)\n",
    "# fmd.show_all_fmdc_TNR_TPR(cifar10_class_dirs)\n",
    "# fmd.show_all_roc_curve(cifar10_class_dirs)\n",
    "# fmd.show_all_P_N_TP_FN_TN_FP_fmdc(cifar10_class_dirs)\n",
    "# fmd.show_all_TPR_TNR_FNR_FPR_fmdc(cifar10_class_dirs)\n",
    "# fmd.show_all_P_N_PPV_NPV_FDR_FOR_fmdc(cifar10_class_dirs)\n",
    "# # fmd.show_all_fmdcs_infos(cifar10_class_dirs)\n",
    "# fmd.show_all_correlation_table(cifar10_class_dirs)\n",
    "# fmd.show_all_HP_fmdc_table(cifar10_class_dirs)\n",
    "# fmd.show_efficiency_table(cifar10_class_dirs)\n",
    "fmd.show_accuracy(cifar10_class_dirs)"
   ]
  },
  {
   "cell_type": "code",
   "execution_count": null,
   "metadata": {},
   "outputs": [],
   "source": [
    "# FMD 초기화, fit, eval\n",
    "from FMD import FMD\n",
    "\n",
    "# fmd = FMD(\"/Volumes/My Passport_ssd_sg3/data_sets/stl10/cat\")\n",
    "# fmd = FMD(\"/Volumes/My Passport_ssd_sg3/data_sets/stl10/stl10_2/car\")\n",
    "# fmd = FMD(\"/Volumes/My Passport_ssd_sg3/data_sets/stl10/stl10_2/airplane\")\n",
    "\n",
    "fmd = FMD()\n",
    "class_dir=\"/Users/macbookair_sg/Library/Mobile Documents/com~apple~CloudDocs/대학/졸업/졸업 과제/data_sets/cifar/cifar10_2/frog\"\n",
    "\n",
    "fmd.fit(class_dir=class_dir, DAM_MHP=['and'])\n",
    "fmd.eval()"
   ]
  },
  {
   "cell_type": "code",
   "execution_count": null,
   "metadata": {},
   "outputs": [],
   "source": [
    "for metric_name in fmd.metric_names:\n",
    "    fmd.show_fmdcs_infos(metric_name)\n",
    "    fmd.show_eval_infos(metric_name)"
   ]
  },
  {
   "cell_type": "code",
   "execution_count": null,
   "metadata": {},
   "outputs": [],
   "source": [
    "# show_dir_infos\n",
    "# fmd.show_dir_infos()"
   ]
  },
  {
   "cell_type": "code",
   "execution_count": null,
   "metadata": {},
   "outputs": [],
   "source": [
    "# show_data_infos\n",
    "# fmd.show_data_infos()"
   ]
  },
  {
   "cell_type": "code",
   "execution_count": null,
   "metadata": {},
   "outputs": [],
   "source": [
    "# show_FM_repres\n",
    "# fmd.show_FM_repres()\n",
    "# for INST_name in fmd.INST_names:\n",
    "    # fmd.show_FM_repres(INST_name)"
   ]
  },
  {
   "cell_type": "code",
   "execution_count": null,
   "metadata": {},
   "outputs": [],
   "source": [
    "# show_alpha_infos\n",
    "# fmd.show_alpha_infos()\n",
    "# for INST_name in fmd.INST_names:\n",
    "    # fmd.show_alpha_infos(INST_name)"
   ]
  },
  {
   "cell_type": "code",
   "execution_count": null,
   "metadata": {},
   "outputs": [],
   "source": [
    "# show_HP\n",
    "# for INST_name in fmd.INST_names:\n",
    "#     fmd.show_HP(INST_name)"
   ]
  },
  {
   "cell_type": "code",
   "execution_count": null,
   "metadata": {},
   "outputs": [],
   "source": [
    "# show_AMs\n",
    "# for INST_name in fmd.INST_names:\n",
    "    # fmd.show_AMs(INST_name)"
   ]
  },
  {
   "cell_type": "code",
   "execution_count": null,
   "metadata": {},
   "outputs": [],
   "source": [
    "# show_DAM_infos\n",
    "# for INST_name in fmd.INST_names:\n",
    "    # fmd.show_DAM_infos(INST_name)"
   ]
  },
  {
   "cell_type": "code",
   "execution_count": null,
   "metadata": {},
   "outputs": [],
   "source": [
    "# show_layer_infos\n",
    "# for INST_name in fmd.INST_names:\n",
    "#     fmd.show_layer_infos(INST_name)"
   ]
  },
  {
   "cell_type": "code",
   "execution_count": null,
   "metadata": {},
   "outputs": [],
   "source": [
    "# show_fmdc_infos\n",
    "# for INST_name in fmd.INST_names:\n",
    "#     fmd.show_fmdc_infos(INST_name)"
   ]
  },
  {
   "cell_type": "code",
   "execution_count": null,
   "metadata": {},
   "outputs": [],
   "source": [
    "# show_eval_infos\n",
    "# eval_name = fmd.eval_names[0]\n",
    "# for INST_name in fmd.INST_names:\n",
    "#     fmd.show_eval_infos(INST_name, eval_name)"
   ]
  },
  {
   "cell_type": "code",
   "execution_count": null,
   "metadata": {},
   "outputs": [],
   "source": [
    "# show_fmdcs_infos\n",
    "# eval_name = fmd.eval_names[0]\n",
    "# for INST_name in fmd.INST_names:\n",
    "#     fmd.show_fmdcs_infos(INST_name, eval_name)"
   ]
  }
 ],
 "metadata": {
  "kernelspec": {
   "display_name": "Python 3.8.13 ('ml')",
   "language": "python",
   "name": "python3"
  },
  "language_info": {
   "codemirror_mode": {
    "name": "ipython",
    "version": 3
   },
   "file_extension": ".py",
   "mimetype": "text/x-python",
   "name": "python",
   "nbconvert_exporter": "python",
   "pygments_lexer": "ipython3",
   "version": "3.8.13"
  },
  "orig_nbformat": 4,
  "vscode": {
   "interpreter": {
    "hash": "64fa2e47d69fa4672cf027ee76bcbba29a1599143fd4288ceea45c7bf465837c"
   }
  }
 },
 "nbformat": 4,
 "nbformat_minor": 2
}
