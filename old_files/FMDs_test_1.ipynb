{
 "cells": [
  {
   "cell_type": "code",
   "execution_count": 7,
   "metadata": {},
   "outputs": [
    {
     "name": "stdout",
     "output_type": "stream",
     "text": [
      "[cifar10_2, airplane]\n",
      "\n",
      "FM_min:\n",
      "\talpha_min: 0.0000 0.0000 0.0000 0.0000 0.0000 0.0000\n",
      "\talpha_max: 0.0076 0.0000 0.0511 0.1897 0.0174 0.1393\n",
      "FM_mean:\n",
      "\talpha_min: 0.0000 0.0000 0.0000 0.0000 0.0000 0.0000\n",
      "\talpha_max: 0.1861 0.6560 0.1447 0.7235 0.1501 0.8008\n",
      "FM_max:\n",
      "\talpha_min: 0.0000 0.0000 0.0000 0.0000 0.0000 0.0000\n",
      "\talpha_max: 0.4958 1.0000 0.3966 1.0000 0.3055 1.0000\n",
      "----------------------------------------------------------------------------------------------------\n",
      "[cifar10_2, automobile]\n",
      "\n",
      "FM_min:\n",
      "\talpha_min: 0.0000 0.0000 0.0000 0.0000 0.0000 0.0000\n",
      "\talpha_max: 0.0271 0.0000 0.0106 0.0405 0.0230 0.0297\n",
      "FM_mean:\n",
      "\talpha_min: 0.0000 0.0000 0.0000 0.0000 0.0000 0.0000\n",
      "\talpha_max: 0.1426 0.3590 0.1435 0.4315 0.1643 0.5600\n",
      "FM_max:\n",
      "\talpha_min: 0.0000 0.0000 0.0000 0.0000 0.0000 0.0000\n",
      "\talpha_max: 0.4757 1.0000 0.3654 1.0000 0.3323 1.0000\n",
      "----------------------------------------------------------------------------------------------------\n"
     ]
    }
   ],
   "source": [
    "# FMD 초기화, fit, eval\n",
    "from FMD import FMD\n",
    "\n",
    "cifar10_classes_str = ['airplane', 'automobile', 'bird', 'cat', 'deer', 'dog', 'frog', 'horse', 'ship', 'truck']\n",
    "cifar10_classes = ['airplane', 'automobile']\n",
    "cifar10_classes_int = [0, 1]\n",
    "fmds = []\n",
    "\n",
    "# fmd 초기화\n",
    "for cifar10_class in cifar10_classes_int:\n",
    "    fmd  = \n",
    "    fmds[f'{cifar10_classes_str[cifar10_class]}'] = FMD(f\"/Users/macbookair_sg/Library/Mobile Documents/com~apple~CloudDocs/대학/졸업/졸업 과제/data_sets/cifar/cifar10_2/{cifar10_class}\")\n",
    "\n",
    "for cifar10_class in cifar10_classes:\n",
    "    # fmds[f'{cifar10_class}'].set_data_infos()\n",
    "    # fmds[f'{cifar10_class}'].set_FM_repres()\n",
    "    # fmds[f'{cifar10_class}'].set_alpha_rmw_min_max()\n",
    "    # fmds[f'{cifar10_class}'].set_MHP(DAM_MHP=['and'])\n",
    "    # fmds[f'{cifar10_class}'].init_INSTs()\n",
    "    # fmds[f'{cifar10_class}'].set_AMs_and_alpha_infos_and_DAM_infos()\n",
    "    # fmds[f'{cifar10_class}'].set_fmds()\n",
    "    # fmds[f'{cifar10_class}'].set_fmdc()\n",
    "    \n",
    "    # for INST_name in fmds[f'{cifar10_class}'].INST_names:\n",
    "        # fmds[f'{cifar10_class}'].show_FM_repres(INST_name)\n",
    "    fmds[f'{cifar10_class}'].fit(DAM_MHP=['and'])\n",
    "    fmds[f'{cifar10_class}'].eval()\n",
    "    fmds[f'{cifar10_class}'].show_alpha_infos()"
   ]
  },
  {
   "cell_type": "code",
   "execution_count": 8,
   "metadata": {},
   "outputs": [
    {
     "name": "stdout",
     "output_type": "stream",
     "text": [
      "[cifar10_2, airplane, [FM_mean 0,rmw_max,1000 and se_lfmd C rvalid_fmds_average]]\n",
      "\n",
      "alpha_slice:\t       1000\n",
      "==================================================================================\n",
      "alpha_min:\t|    0.0000|    0.0000|    0.0000|    0.0000|    0.0000|    0.0000|\n",
      "                |-----------------------------------------------------------------|\n",
      "alpha:\t\t|    0.0201|    0.0115|    0.0204|    0.0376|    0.0120|    0.0594|\n",
      "alpha_percent:\t|       14%|        3%|       14%|        9%|        7%|       11%|\n",
      "alpha_gage:\t|.........#|..........|.........#|..........|..........|.........#|\n",
      "                |-----------------------------------------------------------------|\n",
      "alpha_max:\t|    0.1426|    0.3590|    0.1435|    0.4315|    0.1643|    0.5600|\n",
      "==================================================================================\n",
      "rmw_min:\t|     -4096|     -4096|     -4096|     -4096|     -4096|     -4096|\n",
      "                |-----------------------------------------------------------------|\n",
      "rmw:\t\t|       274|       185|       246|       294|       381|       419|\n",
      "rmw_percent:\t|       53%|       52%|       53%|       54%|       55%|       55%|\n",
      "rmw_gage:\t|.....#####|.....#####|.....#####|.....#####|.....#####|.....#####|\n",
      "                |-----------------------------------------------------------------|\n",
      "rmw_max:\t|      4096|      4096|      4096|      4096|      4096|      4096|\n",
      "----------------------------------------------------------------------------------------------------\n"
     ]
    }
   ],
   "source": [
    "# for cifar10_class in cifar10_classes:\n",
    "    # for INST_name in fmds[f'{cifar10_class}'].INST_names:\n",
    "    #     fmds['f'{cifar10_class}''].show_alpha_infos(INST_name)\n",
    "for INST_name in fmds['airplane'].INST_names:\n",
    "    fmds['airplane'].show_alpha_infos(INST_name)"
   ]
  },
  {
   "cell_type": "code",
   "execution_count": 9,
   "metadata": {},
   "outputs": [
    {
     "name": "stdout",
     "output_type": "stream",
     "text": [
      "[cifar10_2, automobile, [FM_mean 0,rmw_max,1000 and se_lfmd C rvalid_fmds_average]]\n",
      "\n",
      "alpha_slice:\t       1000\n",
      "==================================================================================\n",
      "alpha_min:\t|    0.0000|    0.0000|    0.0000|    0.0000|    0.0000|    0.0000|\n",
      "                |-----------------------------------------------------------------|\n",
      "alpha:\t\t|    0.0201|    0.0115|    0.0204|    0.0376|    0.0120|    0.0594|\n",
      "alpha_percent:\t|       14%|        3%|       14%|        9%|        7%|       11%|\n",
      "alpha_gage:\t|.........#|..........|.........#|..........|..........|.........#|\n",
      "                |-----------------------------------------------------------------|\n",
      "alpha_max:\t|    0.1426|    0.3590|    0.1435|    0.4315|    0.1643|    0.5600|\n",
      "==================================================================================\n",
      "rmw_min:\t|     -4096|     -4096|     -4096|     -4096|     -4096|     -4096|\n",
      "                |-----------------------------------------------------------------|\n",
      "rmw:\t\t|       274|       185|       246|       294|       381|       419|\n",
      "rmw_percent:\t|       53%|       52%|       53%|       54%|       55%|       55%|\n",
      "rmw_gage:\t|.....#####|.....#####|.....#####|.....#####|.....#####|.....#####|\n",
      "                |-----------------------------------------------------------------|\n",
      "rmw_max:\t|      4096|      4096|      4096|      4096|      4096|      4096|\n",
      "----------------------------------------------------------------------------------------------------\n"
     ]
    }
   ],
   "source": [
    "for INST_name in fmds['automobile'].INST_names:\n",
    "    fmds['automobile'].show_alpha_infos(INST_name)"
   ]
  },
  {
   "cell_type": "code",
   "execution_count": 14,
   "metadata": {},
   "outputs": [
    {
     "name": "stdout",
     "output_type": "stream",
     "text": [
      "232\n",
      "{'airplane': <FMD.FMD object at 0x7f9d151a48b0>, 'automobile': <FMD.FMD object at 0x7f9d151b9520>}\n",
      "2\n",
      "48\n",
      "48\n"
     ]
    }
   ],
   "source": [
    "import sys\n",
    "print(sys.getsizeof(fmds))\n",
    "print(fmds)\n",
    "print(len(fmds))\n",
    "print(sys.getsizeof(fmds['airplane']))\n",
    "print(sys.getsizeof(fmds['automobile']))"
   ]
  },
  {
   "cell_type": "code",
   "execution_count": 53,
   "metadata": {},
   "outputs": [
    {
     "name": "stdout",
     "output_type": "stream",
     "text": [
      "[cifar10_2, airplane]\n",
      "\n",
      "FM_min:\n",
      "\talpha_min: 0.0000 0.0000 0.0000 0.0000 0.0000 0.0000\n",
      "\talpha_max: 0.0076 0.0000 0.0511 0.1897 0.0174 0.1393\n",
      "FM_mean:\n",
      "\talpha_min: 0.0000 0.0000 0.0000 0.0000 0.0000 0.0000\n",
      "\talpha_max: 0.1861 0.6560 0.1447 0.7235 0.1501 0.8008\n",
      "FM_max:\n",
      "\talpha_min: 0.0000 0.0000 0.0000 0.0000 0.0000 0.0000\n",
      "\talpha_max: 0.4958 1.0000 0.3966 1.0000 0.3055 1.0000\n",
      "----------------------------------------------------------------------------------------------------\n",
      "140312608963888\n",
      "140312585418928\n"
     ]
    }
   ],
   "source": [
    "fmd1 = FMD(f\"/Users/macbookair_sg/Library/Mobile Documents/com~apple~CloudDocs/대학/졸업/졸업 과제/data_sets/cifar/cifar10_2/airplane\")\n",
    "fmd1.fit(DAM_MHP=['and'])\n",
    "fmd1.eval()\n",
    "fmd1.show_alpha_infos()\n",
    "print(id(fmd1))\n",
    "print(id(fmd2))"
   ]
  },
  {
   "cell_type": "code",
   "execution_count": 54,
   "metadata": {},
   "outputs": [
    {
     "name": "stdout",
     "output_type": "stream",
     "text": [
      "[cifar10_2, automobile]\n",
      "\n",
      "FM_min:\n",
      "\talpha_min: 0.0000 0.0000 0.0000 0.0000 0.0000 0.0000\n",
      "\talpha_max: 0.0271 0.0000 0.0106 0.0405 0.0230 0.0297\n",
      "FM_mean:\n",
      "\talpha_min: 0.0000 0.0000 0.0000 0.0000 0.0000 0.0000\n",
      "\talpha_max: 0.1426 0.3590 0.1435 0.4315 0.1643 0.5600\n",
      "FM_max:\n",
      "\talpha_min: 0.0000 0.0000 0.0000 0.0000 0.0000 0.0000\n",
      "\talpha_max: 0.4757 1.0000 0.3654 1.0000 0.3323 1.0000\n",
      "----------------------------------------------------------------------------------------------------\n",
      "140312608963888\n",
      "140312585418784\n"
     ]
    }
   ],
   "source": [
    "fmd2 = FMD(f\"/Users/macbookair_sg/Library/Mobile Documents/com~apple~CloudDocs/대학/졸업/졸업 과제/data_sets/cifar/cifar10_2/automobile\")\n",
    "fmd2.fit(DAM_MHP=['and'])\n",
    "fmd2.eval()\n",
    "fmd2.show_alpha_infos()\n",
    "print(id(fmd1))\n",
    "print(id(fmd2))"
   ]
  },
  {
   "cell_type": "code",
   "execution_count": 55,
   "metadata": {},
   "outputs": [
    {
     "name": "stdout",
     "output_type": "stream",
     "text": [
      "140312608963888\n",
      "140312585418784\n"
     ]
    }
   ],
   "source": [
    "print(id(fmd1))\n",
    "print(id(fmd2))"
   ]
  },
  {
   "cell_type": "code",
   "execution_count": 56,
   "metadata": {},
   "outputs": [
    {
     "name": "stdout",
     "output_type": "stream",
     "text": [
      "140312608963888\n",
      "140312585418784\n"
     ]
    }
   ],
   "source": [
    "fmds = []\n",
    "fmds.append(fmd1)\n",
    "fmds.append(fmd2)\n",
    "print(id(fmds[0]))\n",
    "print(id(fmds[1]))"
   ]
  },
  {
   "cell_type": "code",
   "execution_count": 57,
   "metadata": {},
   "outputs": [
    {
     "name": "stdout",
     "output_type": "stream",
     "text": [
      "[cifar10_2, airplane, [FM_mean 0,rmw_max,1000 and se_lfmd C rvalid_fmds_average]]\n",
      "\n",
      "alpha_slice:\t       1000\n",
      "==================================================================================\n",
      "alpha_min:\t|    0.0000|    0.0000|    0.0000|    0.0000|    0.0000|    0.0000|\n",
      "                |-----------------------------------------------------------------|\n",
      "alpha:\t\t|    0.0201|    0.0115|    0.0204|    0.0376|    0.0120|    0.0594|\n",
      "alpha_percent:\t|       14%|        3%|       14%|        9%|        7%|       11%|\n",
      "alpha_gage:\t|.........#|..........|.........#|..........|..........|.........#|\n",
      "                |-----------------------------------------------------------------|\n",
      "alpha_max:\t|    0.1426|    0.3590|    0.1435|    0.4315|    0.1643|    0.5600|\n",
      "==================================================================================\n",
      "rmw_min:\t|     -4096|     -4096|     -4096|     -4096|     -4096|     -4096|\n",
      "                |-----------------------------------------------------------------|\n",
      "rmw:\t\t|       274|       185|       246|       294|       381|       419|\n",
      "rmw_percent:\t|       53%|       52%|       53%|       54%|       55%|       55%|\n",
      "rmw_gage:\t|.....#####|.....#####|.....#####|.....#####|.....#####|.....#####|\n",
      "                |-----------------------------------------------------------------|\n",
      "rmw_max:\t|      4096|      4096|      4096|      4096|      4096|      4096|\n",
      "----------------------------------------------------------------------------------------------------\n",
      "[cifar10_2, automobile, [FM_mean 0,rmw_max,1000 and se_lfmd C rvalid_fmds_average]]\n",
      "\n",
      "alpha_slice:\t       1000\n",
      "==================================================================================\n",
      "alpha_min:\t|    0.0000|    0.0000|    0.0000|    0.0000|    0.0000|    0.0000|\n",
      "                |-----------------------------------------------------------------|\n",
      "alpha:\t\t|    0.0201|    0.0115|    0.0204|    0.0376|    0.0120|    0.0594|\n",
      "alpha_percent:\t|       14%|        3%|       14%|        9%|        7%|       11%|\n",
      "alpha_gage:\t|.........#|..........|.........#|..........|..........|.........#|\n",
      "                |-----------------------------------------------------------------|\n",
      "alpha_max:\t|    0.1426|    0.3590|    0.1435|    0.4315|    0.1643|    0.5600|\n",
      "==================================================================================\n",
      "rmw_min:\t|     -4096|     -4096|     -4096|     -4096|     -4096|     -4096|\n",
      "                |-----------------------------------------------------------------|\n",
      "rmw:\t\t|       274|       185|       246|       294|       381|       419|\n",
      "rmw_percent:\t|       53%|       52%|       53%|       54%|       55%|       55%|\n",
      "rmw_gage:\t|.....#####|.....#####|.....#####|.....#####|.....#####|.....#####|\n",
      "                |-----------------------------------------------------------------|\n",
      "rmw_max:\t|      4096|      4096|      4096|      4096|      4096|      4096|\n",
      "----------------------------------------------------------------------------------------------------\n"
     ]
    }
   ],
   "source": [
    "for class_name in range(len(fmds)):\n",
    "    for INST_name in fmds[class_name].INST_names:\n",
    "        fmds[class_name].show_alpha_infos(INST_name)"
   ]
  },
  {
   "cell_type": "code",
   "execution_count": 71,
   "metadata": {},
   "outputs": [
    {
     "ename": "TypeError",
     "evalue": "object.__new__(): not enough arguments",
     "output_type": "error",
     "traceback": [
      "\u001b[0;31m---------------------------------------------------------------------------\u001b[0m",
      "\u001b[0;31mTypeError\u001b[0m                                 Traceback (most recent call last)",
      "\u001b[1;32m/Users/macbookair_sg/Library/Mobile Documents/com~apple~CloudDocs/대학/졸업/졸업 과제/FMD/FMDs_test.ipynb 셀 10\u001b[0m in \u001b[0;36m<cell line: 1>\u001b[0;34m()\u001b[0m\n\u001b[0;32m----> <a href='vscode-notebook-cell:/Users/macbookair_sg/Library/Mobile%20Documents/com~apple~CloudDocs/%EB%8C%80%ED%95%99/%EC%A1%B8%EC%97%85/%EC%A1%B8%EC%97%85%20%EA%B3%BC%EC%A0%9C/FMD/FMDs_test.ipynb#X16sZmlsZQ%3D%3D?line=0'>1</a>\u001b[0m fmd1\u001b[39m.\u001b[39;49m\u001b[39m__new__\u001b[39;49m()\n",
      "\u001b[0;31mTypeError\u001b[0m: object.__new__(): not enough arguments"
     ]
    }
   ],
   "source": [
    "fmd1.__new__()"
   ]
  },
  {
   "cell_type": "code",
   "execution_count": 52,
   "metadata": {},
   "outputs": [
    {
     "name": "stdout",
     "output_type": "stream",
     "text": [
      "[cifar10_2, airplane]\n",
      "\n",
      "FM_min:\n",
      "\talpha_min: 0.0000 0.0000 0.0000 0.0000 0.0000 0.0000\n",
      "\talpha_max: 0.0271 0.0000 0.0106 0.0405 0.0230 0.0297\n",
      "FM_mean:\n",
      "\talpha_min: 0.0000 0.0000 0.0000 0.0000 0.0000 0.0000\n",
      "\talpha_max: 0.1426 0.3590 0.1435 0.4315 0.1643 0.5600\n",
      "FM_max:\n",
      "\talpha_min: 0.0000 0.0000 0.0000 0.0000 0.0000 0.0000\n",
      "\talpha_max: 0.4757 1.0000 0.3654 1.0000 0.3323 1.0000\n",
      "----------------------------------------------------------------------------------------------------\n",
      "[cifar10_2, automobile]\n",
      "\n",
      "FM_min:\n",
      "\talpha_min: 0.0000 0.0000 0.0000 0.0000 0.0000 0.0000\n",
      "\talpha_max: 0.0271 0.0000 0.0106 0.0405 0.0230 0.0297\n",
      "FM_mean:\n",
      "\talpha_min: 0.0000 0.0000 0.0000 0.0000 0.0000 0.0000\n",
      "\talpha_max: 0.1426 0.3590 0.1435 0.4315 0.1643 0.5600\n",
      "FM_max:\n",
      "\talpha_min: 0.0000 0.0000 0.0000 0.0000 0.0000 0.0000\n",
      "\talpha_max: 0.4757 1.0000 0.3654 1.0000 0.3323 1.0000\n",
      "----------------------------------------------------------------------------------------------------\n",
      "140312585417824\n",
      "140312585418928\n"
     ]
    }
   ],
   "source": [
    "a = fmds[0]\n",
    "a.show_alpha_infos()\n",
    "b = fmds[1]\n",
    "b.show_alpha_infos()\n",
    "print(id(a))\n",
    "print(id(b))"
   ]
  },
  {
   "cell_type": "code",
   "execution_count": 30,
   "metadata": {},
   "outputs": [
    {
     "name": "stdout",
     "output_type": "stream",
     "text": [
      "140312558979872\n",
      "140312482393104\n"
     ]
    }
   ],
   "source": [
    "import copy\n",
    "fmds = {}\n",
    "\n",
    "fmds['airplane'] = FMD(f\"/Users/macbookair_sg/Library/Mobile Documents/com~apple~CloudDocs/대학/졸업/졸업 과제/data_sets/cifar/cifar10_2/airplane\")\n",
    "fmds['automobile'] = FMD(f\"/Users/macbookair_sg/Library/Mobile Documents/com~apple~CloudDocs/대학/졸업/졸업 과제/data_sets/cifar/cifar10_2/automobile\")\n",
    "print(id(fmds['airplane']))\n",
    "print(id(fmds['automobile']))"
   ]
  },
  {
   "cell_type": "code",
   "execution_count": 31,
   "metadata": {},
   "outputs": [
    {
     "name": "stdout",
     "output_type": "stream",
     "text": [
      "140312586398784\n",
      "140312586396672\n"
     ]
    }
   ],
   "source": [
    "fmds['airplane'] = copy.deepcopy(fmd1)\n",
    "fmds['automobile'] = copy.deepcopy(fmd2)\n",
    "print(id(fmds['airplane']))\n",
    "print(id(fmds['automobile']))"
   ]
  },
  {
   "cell_type": "code",
   "execution_count": 28,
   "metadata": {},
   "outputs": [
    {
     "name": "stdout",
     "output_type": "stream",
     "text": [
      "[cifar10_2, airplane, [FM_mean 0,rmw_max,1000 and se_lfmd C rvalid_fmds_average]]\n",
      "\n",
      "alpha_slice:\t       1000\n",
      "==================================================================================\n",
      "alpha_min:\t|    0.0000|    0.0000|    0.0000|    0.0000|    0.0000|    0.0000|\n",
      "                |-----------------------------------------------------------------|\n",
      "alpha:\t\t|    0.0201|    0.0115|    0.0204|    0.0376|    0.0120|    0.0594|\n",
      "alpha_percent:\t|       14%|        3%|       14%|        9%|        7%|       11%|\n",
      "alpha_gage:\t|.........#|..........|.........#|..........|..........|.........#|\n",
      "                |-----------------------------------------------------------------|\n",
      "alpha_max:\t|    0.1426|    0.3590|    0.1435|    0.4315|    0.1643|    0.5600|\n",
      "==================================================================================\n",
      "rmw_min:\t|     -4096|     -4096|     -4096|     -4096|     -4096|     -4096|\n",
      "                |-----------------------------------------------------------------|\n",
      "rmw:\t\t|       274|       185|       246|       294|       381|       419|\n",
      "rmw_percent:\t|       53%|       52%|       53%|       54%|       55%|       55%|\n",
      "rmw_gage:\t|.....#####|.....#####|.....#####|.....#####|.....#####|.....#####|\n",
      "                |-----------------------------------------------------------------|\n",
      "rmw_max:\t|      4096|      4096|      4096|      4096|      4096|      4096|\n",
      "----------------------------------------------------------------------------------------------------\n",
      "[cifar10_2, automobile, [FM_mean 0,rmw_max,1000 and se_lfmd C rvalid_fmds_average]]\n",
      "\n",
      "alpha_slice:\t       1000\n",
      "==================================================================================\n",
      "alpha_min:\t|    0.0000|    0.0000|    0.0000|    0.0000|    0.0000|    0.0000|\n",
      "                |-----------------------------------------------------------------|\n",
      "alpha:\t\t|    0.0201|    0.0115|    0.0204|    0.0376|    0.0120|    0.0594|\n",
      "alpha_percent:\t|       14%|        3%|       14%|        9%|        7%|       11%|\n",
      "alpha_gage:\t|.........#|..........|.........#|..........|..........|.........#|\n",
      "                |-----------------------------------------------------------------|\n",
      "alpha_max:\t|    0.1426|    0.3590|    0.1435|    0.4315|    0.1643|    0.5600|\n",
      "==================================================================================\n",
      "rmw_min:\t|     -4096|     -4096|     -4096|     -4096|     -4096|     -4096|\n",
      "                |-----------------------------------------------------------------|\n",
      "rmw:\t\t|       274|       185|       246|       294|       381|       419|\n",
      "rmw_percent:\t|       53%|       52%|       53%|       54%|       55%|       55%|\n",
      "rmw_gage:\t|.....#####|.....#####|.....#####|.....#####|.....#####|.....#####|\n",
      "                |-----------------------------------------------------------------|\n",
      "rmw_max:\t|      4096|      4096|      4096|      4096|      4096|      4096|\n",
      "----------------------------------------------------------------------------------------------------\n"
     ]
    }
   ],
   "source": [
    "for cifar10_class in cifar10_classes:\n",
    "    for INST_name in fmds[f'{cifar10_class}'].INST_names:\n",
    "        fmds[f'{cifar10_class}'].show_alpha_infos(INST_name)"
   ]
  }
 ],
 "metadata": {
  "kernelspec": {
   "display_name": "Python 3.8.13 ('ml')",
   "language": "python",
   "name": "python3"
  },
  "language_info": {
   "codemirror_mode": {
    "name": "ipython",
    "version": 3
   },
   "file_extension": ".py",
   "mimetype": "text/x-python",
   "name": "python",
   "nbconvert_exporter": "python",
   "pygments_lexer": "ipython3",
   "version": "3.8.13"
  },
  "orig_nbformat": 4,
  "vscode": {
   "interpreter": {
    "hash": "64fa2e47d69fa4672cf027ee76bcbba29a1599143fd4288ceea45c7bf465837c"
   }
  }
 },
 "nbformat": 4,
 "nbformat_minor": 2
}
